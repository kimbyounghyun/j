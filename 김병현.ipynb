{
 "cells": [
  {
   "cell_type": "markdown",
   "id": "49b2bb3f-8a94-4aba-bf67-6b97d86c0047",
   "metadata": {},
   "source": [
    "# OOP (2024 Fall) 실습02: 캡슐화 원리가 적용된 방향그래프\n",
    "- 이름: 김병현\n",
    "- 학번: 20212912\n",
    "\n",
    "여기 홍길동, 99999999 대신 본인의 이름, 학번 작성"
   ]
  },
  {
   "cell_type": "code",
   "execution_count": 41,
   "id": "9a7ec71e-03fe-4fda-ad35-f614711a03b6",
   "metadata": {},
   "outputs": [
    {
     "ename": "CompilerException",
     "evalue": "",
     "output_type": "error",
     "traceback": [
      "\u001b[0m\u001b[1m\u001b[31mCompile error:\u001b[0m",
      "\u001b[0m\u001b[1m|    display(ImageIO.read(new \u001b[0m\u001b[1m\u001b[48;2;235;145;148mURL\u001b[0m\u001b[1m(\"https://mermaid.ink/img/\"+Base64.getEncoder().encodeToString(mmgraph.getBytes()))));\u001b[0m",
      "\u001b[0m\u001b[1m\u001b[34mcannot find symbol\u001b[0m",
      "\u001b[0m\u001b[1m\u001b[34m  symbol:   class URL\u001b[0m",
      ""
     ]
    }
   ],
   "source": [
    "import javax.imageio.*;\n",
    "\n",
    "var mmgraph = \"\"\"\n",
    "graph LR;\n",
    "    서울 --> 원주 --> 평창 --> 강릉\n",
    "    원주 --> 안동\n",
    "    서울 --> 천안 --> 대전 & 공주\n",
    "    대전 --> 대구 --> 부산\n",
    "    공주 --> 익산 --> 광주 --> 목포\n",
    "    대전 --> 익산 --> 전주 --> 여수\n",
    "\"\"\";\n",
    "\n",
    "display(ImageIO.read(new URL(\"https://mermaid.ink/img/\"+Base64.getEncoder().encodeToString(mmgraph.getBytes()))));"
   ]
  },
  {
   "cell_type": "markdown",
   "id": "c7568242-c4fe-404d-abcd-c65aff5ccefa",
   "metadata": {},
   "source": [
    "## 방향그래프 레코드\n",
    "노드가 String인 인접리스트 표현을 구성요소로 포함하는 레코드의 정의를 캡슐화 원리가 잘 지켜지도록 수정/완성해 보라.\n",
    "\n",
    "adjList는 실습01에서 작성했던 routeMap으로 초기화한다고 보면 된다."
   ]
  },
  {
   "cell_type": "code",
   "execution_count": 42,
   "id": "21e36349-1e81-4962-878f-9353e48dc726",
   "metadata": {},
   "outputs": [],
   "source": [
    "import java.util.*;\n",
    "\n",
    "record Graph(Map<String, List<String>> adjList) {\n",
    "   \n",
    "    public Graph(Map<String, List<String>> adjList) {\n",
    "        Map<String, List<String>> acd = new HashMap<>();\n",
    "        for (Map.Entry<String, List<String>> entry : adjList.entrySet()) {\n",
    "            acd.put(entry.getKey(), new ArrayList<>(entry.getValue()));\n",
    "        }\n",
    "        this.adjList = Collections.unmodifiableMap(acd);\n",
    "    }\n",
    "\n",
    "    public List<String> adjFrom(String orig) {\n",
    "        List<String> neighbors = adjList.get(orig);\n",
    "        if (neighbors == null) {\n",
    "            return null;\n",
    "        }\n",
    "        return Collections.unmodifiableList(neighbors);\n",
    "    }\n",
    "\n",
    "    // 선택사항: 경로가 존재하는지 확인\n",
    "    public boolean hasPath(String orig, String dest) {\n",
    "        List<String> neighbors = adjFrom(orig);\n",
    "        if (neighbors == null) return false;\n",
    "        return neighbors.contains(dest);\n",
    "    }\n",
    "}"
   ]
  },
  {
   "cell_type": "markdown",
   "id": "88b9d747-6976-4934-af7a-c9299d84f493",
   "metadata": {},
   "source": [
    "#### 코드에서 어떤 부분을 신경써서 캡슐화 원리가 잘 지켜지도록 작성했는지 되도록 짧게 설명하라. (200자 넘지 않게)\n",
    "\n",
    "1.adjList 복사본 생성 \n",
    "원본 데이터 보호: 외부에서 전달받은 adjList를 그대로 사용하지 않고, 복사본을 만들어 내부적으로 관리. 외부 코드가 adjList를 변경해도 Graph 객체 내부의 데이터는 변경되지 않음\n",
    "\n",
    "불변성 유지: 만약 외부에서 전달된 adjList가 외부에서 수정되면, 그래프 객체 내부 데이터도 영향을 받을 수 있기 때문에 이 복사 과정을 통해 객체의 불변성을 유지\n",
    "\n",
    "adjFrom 메서드를 통해 특정 노드의 인접 노드를 간접적으로 접근"
   ]
  },
  {
   "cell_type": "markdown",
   "id": "4eb73094-9222-404c-9b92-368d95d0bb80",
   "metadata": {},
   "source": [
    "#### 그래프 객체 생성 및 활용\n",
    "실습01에서처럼 위의 하행선 철도 노선도를 자바의 Map과 List를 활용한 인접리스트(adjacencty list) 데이터 구조로 옮겨 `Graph` 레코드의 인스턴스를 생성해 `routeGraph` 변수에 저장해 보라."
   ]
  },
  {
   "cell_type": "code",
   "execution_count": 43,
   "id": "d4d65e86-0f95-430c-a5e4-2a499e9d8f42",
   "metadata": {},
   "outputs": [
    {
     "name": "stdout",
     "output_type": "stream",
     "text": [
      "{강릉=[], 전주=[여수], 익산=[광주, 전주], 서울=[원주, 천안], 부산=[], 안동=[], 평창=[강릉], 대전=[대구, 익산], 공주=[익산], 원주=[평창, 안동], 목포=[], 여수=[], 천안=[대전, 공주], 대구=[부산], 광주=[목포]}\n"
     ]
    }
   ],
   "source": [
    "// routeMap은 지난 lab01 내용\n",
    "var routeMap = new HashMap< String, List<String> >() {{ // modifiable map with modifiable values \n",
    "    put(\"서울\", new ArrayList<>(List.of(\"원주\",\"천안\")));\n",
    "    put(\"원주\", new ArrayList<>(List.of(\"평창\",\"안동\")));  put(\"안동\", new ArrayList<>());\n",
    "    put(\"평창\", new ArrayList<>(List.of(\"강릉\")));        put(\"강릉\", new ArrayList<>());\n",
    "    put(\"천안\", new ArrayList<>(List.of(\"대전\",\"공주\")));\n",
    "    put(\"대전\", new ArrayList<>(List.of(\"대구\",\"익산\")));\n",
    "    put(\"대구\", new ArrayList<>(List.of(\"부산\")));        put(\"부산\", new ArrayList<>());\n",
    "    put(\"공주\", new ArrayList<>(List.of(\"익산\")));\n",
    "    put(\"익산\", new ArrayList<>(List.of(\"광주\",\"전주\")));\n",
    "    put(\"광주\", new ArrayList<>(List.of(\"목포\")));        put(\"목포\", new ArrayList<>());\n",
    "    put(\"전주\", new ArrayList<>(List.of(\"여수\")));        put(\"여수\", new ArrayList<>());\n",
    "}};\n",
    "\n",
    "System.out.println(routeMap);"
   ]
  },
  {
   "cell_type": "code",
   "execution_count": 44,
   "id": "e0417003-b35e-4649-9da3-6580cd30ae79",
   "metadata": {},
   "outputs": [
    {
     "name": "stdout",
     "output_type": "stream",
     "text": [
      "Graph[adjList={강릉=[], 전주=[여수], 익산=[광주, 전주], 서울=[원주, 천안], 부산=[], 안동=[], 평창=[강릉], 대전=[대구, 익산], 공주=[익산], 원주=[평창, 안동], 목포=[], 여수=[], 천안=[대전, 공주], 대구=[부산], 광주=[목포]}]\n"
     ]
    }
   ],
   "source": [
    "var routeGraph = new Graph(routeMap);\n",
    "\n",
    "System.out.println(routeGraph);"
   ]
  },
  {
   "cell_type": "markdown",
   "id": "b3e6cda7-c154-4acb-b9db-b62b8e45c7de",
   "metadata": {},
   "source": [
    "그리고 adjFrom 메소드를 호출했을 때 크기가 0, 1, 2인 리스트를 리턴하는 경우 및 null을 리턴하는 경우를 작성해 보라."
   ]
  },
  {
   "cell_type": "code",
   "execution_count": 45,
   "id": "d77f995f-3087-4bed-8a35-a84ef3331eaf",
   "metadata": {},
   "outputs": [
    {
     "name": "stdout",
     "output_type": "stream",
     "text": [
      "[]\n"
     ]
    }
   ],
   "source": [
    "// System.out.println( routeGraph.adjFrom(\"???\") );\n",
    "System.out.println(routeGraph.adjFrom(\"안동\"));"
   ]
  },
  {
   "cell_type": "code",
   "execution_count": 46,
   "id": "76d640f4-fefa-49e2-b91f-8a86465d3eac",
   "metadata": {},
   "outputs": [
    {
     "name": "stdout",
     "output_type": "stream",
     "text": [
      "[여수]\n"
     ]
    }
   ],
   "source": [
    "// System.out.println( routeGraph.adjFrom(\"???\") );\n",
    "System.out.println(routeGraph.adjFrom(\"전주\"));"
   ]
  },
  {
   "cell_type": "code",
   "execution_count": 47,
   "id": "c3ff8d40-47e0-4313-8469-150b5b484d81",
   "metadata": {},
   "outputs": [
    {
     "name": "stdout",
     "output_type": "stream",
     "text": [
      "[광주, 전주]\n"
     ]
    }
   ],
   "source": [
    "// System.out.println( routeGraph.adjFrom(\"???\") );\n",
    "System.out.println(routeGraph.adjFrom(\"익산\"));"
   ]
  },
  {
   "cell_type": "code",
   "execution_count": 48,
   "id": "f2b4bcb7-9d9c-494a-9762-ca0700c6f762",
   "metadata": {},
   "outputs": [
    {
     "name": "stdout",
     "output_type": "stream",
     "text": [
      "null\n"
     ]
    }
   ],
   "source": [
    "// System.out.println( routeGraph.adjFrom(\"???\") );\n",
    "System.out.println(routeGraph.adjFrom(\"평양\"));"
   ]
  },
  {
   "cell_type": "code",
   "execution_count": null,
   "id": "f5a71c26-8519-4ece-af77-18afb293e378",
   "metadata": {},
   "outputs": [],
   "source": []
  },
  {
   "cell_type": "code",
   "execution_count": null,
   "id": "27357a58-74da-4e4d-afdf-8b3aa69137ab",
   "metadata": {},
   "outputs": [],
   "source": []
  },
  {
   "cell_type": "code",
   "execution_count": null,
   "id": "8f534e91-f091-4997-8e2c-a10f934f6a2f",
   "metadata": {},
   "outputs": [],
   "source": []
  }
 ],
 "metadata": {
  "kernelspec": {
   "display_name": "Java (rjk 2.1.0)",
   "language": "java",
   "name": "rapaio-jupyter-kernel"
  },
  "language_info": {
   "codemirror_mode": "java",
   "file_extension": ".jshell",
   "mimetype": "text/x-java-source",
   "name": "java",
   "nbconvert_exporter": "script",
   "pygments_lexer": "java",
   "version": "22.0.2+9"
  }
 },
 "nbformat": 4,
 "nbformat_minor": 5
}
